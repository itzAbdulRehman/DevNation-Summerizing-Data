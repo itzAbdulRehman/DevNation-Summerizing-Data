{
 "cells": [
  {
   "cell_type": "code",
   "execution_count": 1,
   "id": "0a954a1a",
   "metadata": {},
   "outputs": [],
   "source": [
    "# for manipulations...\n",
    "import pandas as pd\n",
    "import numpy as np\n",
    "\n",
    "# for data visualization...\n",
    "import matplotlib.pyplot as plt\n",
    "import seaborn as sns\n",
    "\n",
    "# for interactivity...\n",
    "from ipywidgets import interact \n",
    "\n",
    "# to ignore warnings in NoteBook\n",
    "import warnings\n",
    "warnings.filterwarnings('ignore')\n",
    "\n"
   ]
  },
  {
   "cell_type": "code",
   "execution_count": 2,
   "id": "39898f85",
   "metadata": {},
   "outputs": [],
   "source": [
    "# read the dataset\n",
    "data = pd.read_csv(\"data.csv\")"
   ]
  },
  {
   "cell_type": "code",
   "execution_count": 3,
   "id": "84ea29fc",
   "metadata": {},
   "outputs": [
    {
     "data": {
      "text/html": [
       "<div>\n",
       "<style scoped>\n",
       "    .dataframe tbody tr th:only-of-type {\n",
       "        vertical-align: middle;\n",
       "    }\n",
       "\n",
       "    .dataframe tbody tr th {\n",
       "        vertical-align: top;\n",
       "    }\n",
       "\n",
       "    .dataframe thead th {\n",
       "        text-align: right;\n",
       "    }\n",
       "</style>\n",
       "<table border=\"1\" class=\"dataframe\">\n",
       "  <thead>\n",
       "    <tr style=\"text-align: right;\">\n",
       "      <th></th>\n",
       "      <th>N</th>\n",
       "      <th>P</th>\n",
       "      <th>K</th>\n",
       "      <th>temperature</th>\n",
       "      <th>humidity</th>\n",
       "      <th>ph</th>\n",
       "      <th>rainfall</th>\n",
       "      <th>label</th>\n",
       "    </tr>\n",
       "  </thead>\n",
       "  <tbody>\n",
       "    <tr>\n",
       "      <th>0</th>\n",
       "      <td>90</td>\n",
       "      <td>42</td>\n",
       "      <td>43</td>\n",
       "      <td>20.879744</td>\n",
       "      <td>82.002744</td>\n",
       "      <td>6.502985</td>\n",
       "      <td>202.935536</td>\n",
       "      <td>rice</td>\n",
       "    </tr>\n",
       "    <tr>\n",
       "      <th>1</th>\n",
       "      <td>85</td>\n",
       "      <td>58</td>\n",
       "      <td>41</td>\n",
       "      <td>21.770462</td>\n",
       "      <td>80.319644</td>\n",
       "      <td>7.038096</td>\n",
       "      <td>226.655537</td>\n",
       "      <td>rice</td>\n",
       "    </tr>\n",
       "    <tr>\n",
       "      <th>2</th>\n",
       "      <td>60</td>\n",
       "      <td>55</td>\n",
       "      <td>44</td>\n",
       "      <td>23.004459</td>\n",
       "      <td>82.320763</td>\n",
       "      <td>7.840207</td>\n",
       "      <td>263.964248</td>\n",
       "      <td>rice</td>\n",
       "    </tr>\n",
       "    <tr>\n",
       "      <th>3</th>\n",
       "      <td>74</td>\n",
       "      <td>35</td>\n",
       "      <td>40</td>\n",
       "      <td>26.491096</td>\n",
       "      <td>80.158363</td>\n",
       "      <td>6.980401</td>\n",
       "      <td>242.864034</td>\n",
       "      <td>rice</td>\n",
       "    </tr>\n",
       "    <tr>\n",
       "      <th>4</th>\n",
       "      <td>78</td>\n",
       "      <td>42</td>\n",
       "      <td>42</td>\n",
       "      <td>20.130175</td>\n",
       "      <td>81.604873</td>\n",
       "      <td>7.628473</td>\n",
       "      <td>262.717340</td>\n",
       "      <td>rice</td>\n",
       "    </tr>\n",
       "  </tbody>\n",
       "</table>\n",
       "</div>"
      ],
      "text/plain": [
       "    N   P   K  temperature   humidity        ph    rainfall label\n",
       "0  90  42  43    20.879744  82.002744  6.502985  202.935536  rice\n",
       "1  85  58  41    21.770462  80.319644  7.038096  226.655537  rice\n",
       "2  60  55  44    23.004459  82.320763  7.840207  263.964248  rice\n",
       "3  74  35  40    26.491096  80.158363  6.980401  242.864034  rice\n",
       "4  78  42  42    20.130175  81.604873  7.628473  262.717340  rice"
      ]
     },
     "execution_count": 3,
     "metadata": {},
     "output_type": "execute_result"
    }
   ],
   "source": [
    "data.head() # take a look into over data"
   ]
  },
  {
   "cell_type": "code",
   "execution_count": 4,
   "id": "3c232847",
   "metadata": {},
   "outputs": [
    {
     "data": {
      "text/plain": [
       "N              0\n",
       "P              0\n",
       "K              0\n",
       "temperature    0\n",
       "humidity       0\n",
       "ph             0\n",
       "rainfall       0\n",
       "label          0\n",
       "dtype: int64"
      ]
     },
     "execution_count": 4,
     "metadata": {},
     "output_type": "execute_result"
    }
   ],
   "source": [
    "#lets check any missing value in our data set\n",
    "data.isnull().sum()"
   ]
  },
  {
   "cell_type": "code",
   "execution_count": 5,
   "id": "2de4079c",
   "metadata": {},
   "outputs": [
    {
     "data": {
      "text/plain": [
       "(2200, 8)"
      ]
     },
     "execution_count": 5,
     "metadata": {},
     "output_type": "execute_result"
    }
   ],
   "source": [
    "#lets check shape of our Data\n",
    "data.shape"
   ]
  },
  {
   "cell_type": "code",
   "execution_count": 6,
   "id": "dfb87eac",
   "metadata": {},
   "outputs": [
    {
     "data": {
      "text/plain": [
       "mango          100\n",
       "mungbean       100\n",
       "apple          100\n",
       "kidneybeans    100\n",
       "maize          100\n",
       "watermelon     100\n",
       "papaya         100\n",
       "chickpea       100\n",
       "mothbeans      100\n",
       "blackgram      100\n",
       "muskmelon      100\n",
       "cotton         100\n",
       "coffee         100\n",
       "rice           100\n",
       "lentil         100\n",
       "jute           100\n",
       "pigeonpeas     100\n",
       "orange         100\n",
       "pomegranate    100\n",
       "grapes         100\n",
       "banana         100\n",
       "coconut        100\n",
       "Name: label, dtype: int64"
      ]
     },
     "execution_count": 6,
     "metadata": {},
     "output_type": "execute_result"
    }
   ],
   "source": [
    "# lets yake a look on our Cropes \n",
    "data['label'].value_counts()"
   ]
  },
  {
   "cell_type": "code",
   "execution_count": 7,
   "id": "75b0ff74",
   "metadata": {},
   "outputs": [
    {
     "name": "stdout",
     "output_type": "stream",
     "text": [
      "Average Ratio of Nitrogen in the Soil:50.55\n",
      "Average Ratio of Phosphorous in the Soil:53.36\n",
      "Average Ratio of Potassiam in the Soil:48.15\n",
      "Average Temperature in Celcius:25.62\n",
      "Average Relative Humidity in % :71.48\n",
      "Average ph value for the Soil:6.47\n",
      "Average RainFall in 1mm:103.46\n"
     ]
    }
   ],
   "source": [
    "#Lets check the summery for all cropes\n",
    "\n",
    "print('Average Ratio of Nitrogen in the Soil:{0:.2f}'.format(data['N'].mean()))\n",
    "print('Average Ratio of Phosphorous in the Soil:{0:.2f}'.format(data['P'].mean()))\n",
    "print('Average Ratio of Potassiam in the Soil:{0:.2f}'.format(data['K'].mean()))\n",
    "print('Average Temperature in Celcius:{0:.2f}'.format(data['temperature'].mean()))\n",
    "print('Average Relative Humidity in % :{0:.2f}'.format(data['humidity'].mean()))\n",
    "print('Average ph value for the Soil:{0:.2f}'.format(data['ph'].mean()))\n",
    "print('Average RainFall in 1mm:{0:.2f}'.format(data['rainfall'].mean()))"
   ]
  },
  {
   "cell_type": "code",
   "execution_count": 8,
   "id": "5665ae89",
   "metadata": {},
   "outputs": [
    {
     "data": {
      "application/vnd.jupyter.widget-view+json": {
       "model_id": "13753bc7b4db47e78ae51e4de842d8fc",
       "version_major": 2,
       "version_minor": 0
      },
      "text/plain": [
       "interactive(children=(Dropdown(description='crops', options=('mango', 'mungbean', 'apple', 'kidneybeans', 'mai…"
      ]
     },
     "metadata": {},
     "output_type": "display_data"
    }
   ],
   "source": [
    "#Lets check the summery Statistics for all cropes\n",
    "\n",
    "@interact\n",
    "def summary (crops=list(data['label'].value_counts().index)):\n",
    "    x=data[data['label']==crops]\n",
    "    print(\"-----------------------------------------------\")\n",
    "    print('Statistics for Nitrogen')\n",
    "    print('Minimum Nitrogen Required :',x['N'].min())\n",
    "    print('Average Nitrogen Required :',x['N'].mean())\n",
    "    print('Maximum Nitrogen Required :',x['N'].max())\n",
    "    print(\"-----------------------------------------------\")\n",
    "    print('Statistics for Phosphorous')\n",
    "    print('Minimum Phosphorous Required :',x['P'].min())\n",
    "    print('Average Phosphorous Required :',x['P'].mean())\n",
    "    print('Maximum Phosphorous Required :',x['P'].max())\n",
    "    print(\"-----------------------------------------------\")\n",
    "    print('Statistics for Potassium')\n",
    "    print('Minimum Potassium Required :',x['K'].min())\n",
    "    print('Average Potassium Required :',x['K'].mean())\n",
    "    print('Maximum Potassium Required :',x['K'].max())\n",
    "    print(\"-----------------------------------------------\")\n",
    "    print('Statistics for Temperature')\n",
    "    print('Minimum Temperature Required : {0:.2f}'.format(x['temperature'].min()))\n",
    "    print('Average Temperature Required : {0:.2f}'.format(x['temperature'].mean()))\n",
    "    print('Maximum Temperature Required : {0:.2f}'.format(x['temperature'].max()))\n",
    "    print(\"-----------------------------------------------\")\n",
    "    print('Statistics for Humadity')\n",
    "    print('Minimum Humidity Required : {0:.2f}'.format(x['humidity'].min()))\n",
    "    print('Average Humidity Required : {0:.2f}'.format(x['humidity'].mean()))\n",
    "    print('Maximum Humidity Required : {0:.2f}'.format(x['humidity'].max()))\n",
    "    print(\"-----------------------------------------------\")\n",
    "    print('Statistics for PH')\n",
    "    print('Minimum PH Required : {0:.2f}'.format(x['ph'].min()))\n",
    "    print('Average PH Required : {0:.2f}'.format(x['ph'].mean()))\n",
    "    print('Maximum PH Required : {0:.2f}'.format(x['ph'].max()))\n",
    "    print(\"-----------------------------------------------\")\n",
    "    print('Statistics for RainFall')\n",
    "    print('Minimum RainFall Required : {0:.2f}'.format(x['rainfall'].min()))\n",
    "    print('Average RainFall Required : {0:.2f}'.format(x['rainfall'].mean()))\n",
    "    print('Maximum RainFall Required : {0:.2f}'.format(x['rainfall'].max()))\n",
    "    print(\"-----------------------------------------------\")"
   ]
  },
  {
   "cell_type": "code",
   "execution_count": 9,
   "id": "779d2761",
   "metadata": {},
   "outputs": [
    {
     "data": {
      "application/vnd.jupyter.widget-view+json": {
       "model_id": "987bf4a24b69422984794a0c409a961a",
       "version_major": 2,
       "version_minor": 0
      },
      "text/plain": [
       "interactive(children=(Dropdown(description='conditions', options=('N', 'P', 'K', 'temperature', 'humidity', 'p…"
      ]
     },
     "metadata": {},
     "output_type": "display_data"
    }
   ],
   "source": [
    "#Lets check the Average Requirements for each crope with Avergae Conditions \n",
    "\n",
    "\n",
    "@interact\n",
    "def compare(conditions=['N','P','K','temperature','humidity','ph','rainfall']):\n",
    "    print('Average value for',conditions,'is {0:.2f}'.format(data[conditions].mean()))\n",
    "    print(\"-----------------------------------------------\")\n",
    "    print('Rice : {0:.2f}'.format(data[(data['label']=='rice')][conditions].mean()))\n",
    "    print('Black Grams : {0:.2f}'.format(data[(data['label']=='blackgram')][conditions].mean()))\n",
    "    print('Kidney Beans : {0:.2f}'.format(data[(data['label']=='kidneybeans')][conditions].mean()))\n",
    "    print('Pigeon Peas : {0:.2f}'.format(data[(data['label']=='pigeonpeas')][conditions].mean()))\n",
    "    print('Maize : {0:.2f}'.format(data[(data['label']=='maize')][conditions].mean()))\n",
    "    print('Orange : {0:.2f}'.format(data[(data['label']=='orange')][conditions].mean()))\n",
    "    print('Coconut : {0:.2f}'.format(data[(data['label']=='coconut')][conditions].mean()))\n",
    "    print('Muskmelon : {0:.2f}'.format(data[(data['label']=='muskmelon')][conditions].mean()))\n",
    "    print('Water Melon : {0:.2f}'.format(data[(data['label']=='watermelon')][conditions].mean()))\n",
    "    print('Pome Granate : {0:.2f}'.format(data[(data['label']=='pomegranate')][conditions].mean()))\n",
    "    print('Banana : {0:.2f}'.format(data[(data['label']=='banana')][conditions].mean()))\n",
    "    print('Coffee : {0:.2f}'.format(data[(data['label']=='coffee')][conditions].mean()))\n",
    "    print('Mango : {0:.2f}'.format(data[(data['label']=='mango')][conditions].mean()))\n",
    "    print('Chick Peas : {0:.2f}'.format(data[(data['label']=='chickpea')][conditions].mean()))\n",
    "    print('Grapes : {0:.2f}'.format(data[(data['label']=='grapes')][conditions].mean()))\n",
    "    print('Jute : {0:.2f}'.format(data[(data['label']=='jute')][conditions].mean()))\n",
    "    print('Mung Beans : {0:.2f}'.format(data[(data['label']=='mungbean')][conditions].mean()))\n",
    "    print('Papaya : {0:.2f}'.format(data[(data['label']=='papaya')][conditions].mean()))\n",
    "    print('Lentil : {0:.2f}'.format(data[(data['label']=='lentil')][conditions].mean()))\n",
    "    print('Apple : {0:.2f}'.format(data[(data['label']=='apple')][conditions].mean()))\n",
    "    print('Moth Beans : {0:.2f}'.format(data[(data['label']=='mothbeans')][conditions].mean()))\n",
    "    print('Cotton : {0:.2f}'.format(data[(data['label']=='cotton')][conditions].mean()))\n",
    "    "
   ]
  },
  {
   "cell_type": "code",
   "execution_count": 10,
   "id": "db459acb",
   "metadata": {
    "scrolled": true
   },
   "outputs": [
    {
     "data": {
      "application/vnd.jupyter.widget-view+json": {
       "model_id": "5d59c4a6a04b4923915292aeed7fcc41",
       "version_major": 2,
       "version_minor": 0
      },
      "text/plain": [
       "interactive(children=(Dropdown(description='conditions', options=('N', 'P', 'K', 'temperature', 'humidity', 'p…"
      ]
     },
     "metadata": {},
     "output_type": "display_data"
    }
   ],
   "source": [
    "#Lets make this function more intuitive \n",
    "\n",
    "\n",
    "@interact\n",
    "def compare(conditions=['N','P','K','temperature','humidity','ph','rainfall']):\n",
    "    print(\"-----------------------------------------------\")\n",
    "    print(\"Cropes which require more than Average \", conditions ,'\\n' )\n",
    "    print(data[data[conditions] > data[conditions].mean()]['label'].unique())\n",
    "    print('\\n')\n",
    "    print(\"-----------------------------------------------\")\n",
    "    print(\"Cropes which require less than Average \", conditions ,'\\n' )\n",
    "    print(data[data[conditions] <= data[conditions].mean()]['label'].unique())"
   ]
  },
  {
   "cell_type": "code",
   "execution_count": 11,
   "id": "59b0a7d9",
   "metadata": {},
   "outputs": [
    {
     "data": {
      "image/png": "[encoded data removed]",
      "text/plain": [
       "<Figure size 432x288 with 7 Axes>"
      ]
     },
     "metadata": {
      "needs_background": "light"
     },
     "output_type": "display_data"
    }
   ],
   "source": [
    "# lets check distribution for agricultural conditions\n",
    "\n",
    "plt.subplot(2,4,1) \n",
    "sns.distplot(data['N'],color='darkblue')\n",
    "plt.xlabel('Ratio of Nitrogen',fontsize=12)\n",
    "plt.grid()\n",
    "\n",
    "plt.subplot(2,4,2) \n",
    "sns.distplot(data['P'],color='darkblue')\n",
    "plt.xlabel('Ratio of Phasphoros',fontsize=12)\n",
    "plt.grid()\n",
    "\n",
    "plt.subplot(2,4,3) \n",
    "sns.distplot(data['K'],color='darkblue')\n",
    "plt.xlabel('Ratio of Potassium',fontsize=12)\n",
    "plt.grid()\n",
    "\n",
    "plt.subplot(2,4,4) \n",
    "sns.distplot(data['temperature'],color='darkblue')\n",
    "plt.xlabel('Ratio of Temperature',fontsize=12)\n",
    "plt.grid()\n",
    "\n",
    "plt.subplot(2,4,5) \n",
    "sns.distplot(data['P'],color='darkblue')\n",
    "plt.xlabel('Ratio of Phasphoros',fontsize=12)\n",
    "plt.grid()\n",
    "\n",
    "plt.subplot(2,4,6) \n",
    "sns.distplot(data['K'],color='darkblue')\n",
    "plt.xlabel('Ratio of Potassium',fontsize=12)\n",
    "plt.grid()\n",
    "\n",
    "plt.subplot(2,4,7) \n",
    "sns.distplot(data['temperature'],color='darkblue')\n",
    "plt.xlabel('Ratio of Temperature',fontsize=12)\n",
    "plt.grid()\n",
    "\n",
    "sns.set(rc={'figure.figsize':(18,8)})\n",
    "\n",
    "plt.suptitle('Distribution for Agricultural Condition')\n",
    "plt.show()\n",
    " "
   ]
  },
  {
   "cell_type": "code",
   "execution_count": 12,
   "id": "cbe8a9a7",
   "metadata": {},
   "outputs": [
    {
     "name": "stdout",
     "output_type": "stream",
     "text": [
      "Some interesting Facts\n",
      "-----------------------------------------------\n",
      "Cropes which require very High Ratio of Nitrogen content in Soil ['cotton']\n",
      "-----------------------------------------------\n",
      "Cropes which require very High Ratio of Phosphorous content in Soil ['grapes' 'apple']\n",
      "Cropes which require very Low Ratio of Phosphorous content in Soil ['pomegranate' 'watermelon' 'muskmelon' 'orange' 'coconut']\n",
      "-----------------------------------------------\n",
      "Cropes which require very High Ratio of Potassium content in Soil ['grapes' 'apple']\n",
      "Cropes which require very Low Ratio of Potassium content in Soil ['orange']\n",
      "-----------------------------------------------\n",
      "Cropes which require very High Rain Fall ['rice' 'papaya' 'coconut']\n",
      "Cropes which require very Low Rain Fall ['muskmelon']\n",
      "-----------------------------------------------\n",
      "Cropes which require very High Temperature ['grapes' 'papaya']\n",
      "Cropes which require very Low Temperature ['grapes']\n",
      "-----------------------------------------------\n",
      "Cropes which require very High Humidity ['pomegranate' 'muskmelon' 'apple' 'orange' 'papaya' 'coconut']\n",
      "Cropes which require very Low Humidity ['chickpea' 'kidneybeans']\n",
      "-----------------------------------------------\n",
      "Cropes which require very High PH ['mothbeans']\n",
      "Cropes which require very Low PH ['mothbeans']\n"
     ]
    }
   ],
   "source": [
    "# lets find out some interesting patterns\n",
    "\n",
    "print('Some interesting Facts')\n",
    "print(\"-----------------------------------------------\")\n",
    "print('Cropes which require very High Ratio of Nitrogen content in Soil',data[data['N']>120]['label'].unique())\n",
    "print(\"-----------------------------------------------\")\n",
    "print('Cropes which require very High Ratio of Phosphorous content in Soil',data[data['P']>120]['label'].unique())\n",
    "print('Cropes which require very Low Ratio of Phosphorous content in Soil',data[data['P']<10]['label'].unique())\n",
    "print(\"-----------------------------------------------\")\n",
    "print('Cropes which require very High Ratio of Potassium content in Soil',data[data['K']>200]['label'].unique())\n",
    "print('Cropes which require very Low Ratio of Potassium content in Soil',data[data['K']<10]['label'].unique())\n",
    "print(\"-----------------------------------------------\")\n",
    "print('Cropes which require very High Rain Fall',data[data['rainfall']>200]['label'].unique())\n",
    "print('Cropes which require very Low Rain Fall',data[data['rainfall']<30]['label'].unique())\n",
    "print(\"-----------------------------------------------\")\n",
    "print('Cropes which require very High Temperature',data[data['temperature']>40]['label'].unique())\n",
    "print('Cropes which require very Low Temperature',data[data['temperature']<10]['label'].unique())\n",
    "print(\"-----------------------------------------------\")\n",
    "print('Cropes which require very High Humidity',data[data['humidity']>90]['label'].unique())\n",
    "print('Cropes which require very Low Humidity',data[data['humidity']<20]['label'].unique())\n",
    "print(\"-----------------------------------------------\")\n",
    "print('Cropes which require very High PH',data[data['ph']>9]['label'].unique())\n",
    "print('Cropes which require very Low PH',data[data['ph']<4]['label'].unique())\n"
   ]
  },
  {
   "cell_type": "code",
   "execution_count": 13,
   "id": "398ea8a1",
   "metadata": {},
   "outputs": [
    {
     "name": "stdout",
     "output_type": "stream",
     "text": [
      "Summer Crops\n",
      "['pigeonpeas' 'mothbeans' 'blackgram' 'mango' 'grapes' 'orange' 'papaya']\n",
      "-----------------------------------------------\n",
      "Winter Crops\n",
      "['maize' 'pigeonpeas' 'lentil' 'pomegranate' 'grapes' 'orange']\n",
      "-----------------------------------------------\n",
      "Rainy Crops\n",
      "['rice' 'papaya' 'coconut']\n"
     ]
    }
   ],
   "source": [
    "# lets understand which crops can only be grown in summer, winter and rainy season only\n",
    "\n",
    "print('Summer Crops')\n",
    "print(data[(data['temperature']>30) & (data['humidity']>50)]['label'].unique())\n",
    "print(\"-----------------------------------------------\")\n",
    "print('Winter Crops')\n",
    "print(data[(data['temperature']<20) & (data['humidity']>30)]['label'].unique())\n",
    "print(\"-----------------------------------------------\")\n",
    "print('Rainy Crops')\n",
    "print(data[(data['rainfall']>200) & (data['humidity']>30)]['label'].unique())\n",
    "\n",
    "\n"
   ]
  },
  {
   "cell_type": "code",
   "execution_count": 14,
   "id": "dff19c90",
   "metadata": {},
   "outputs": [
    {
     "name": "stdout",
     "output_type": "stream",
     "text": [
      "(2200, 7)\n"
     ]
    }
   ],
   "source": [
    "from sklearn.cluster import KMeans\n",
    "\n",
    "# removing label column\n",
    "x = data.drop(['label'],axis = 1)\n",
    "\n",
    "# Selecting all values of Data\n",
    "x = x.values\n",
    "\n",
    "# Checking the Shape\n",
    "print (x.shape)\n"
   ]
  },
  {
   "cell_type": "code",
   "execution_count": 15,
   "id": "96749d3b",
   "metadata": {},
   "outputs": [
    {
     "data": {
      "image/png": "[encoded data removed]",
      "text/plain": [
       "<Figure size 864x432 with 1 Axes>"
      ]
     },
     "metadata": {},
     "output_type": "display_data"
    }
   ],
   "source": [
    "# lets determine the optimum number of clusters within a DataSet\n",
    "\n",
    "distortions = []\n",
    "K = range(1,11)\n",
    "for k in K:\n",
    "    km = KMeans(n_clusters=k)\n",
    "    km.fit(x)\n",
    "    distortions.append(km.inertia_)\n",
    "    \n",
    "plt.figure(figsize=(12,6))\n",
    "font1 = {'family':'serif','color':'blue','size':20}\n",
    "font2 = {'family':'serif','color':'darkred','size':15}\n",
    "plt.plot(K, distortions, 'bx-')\n",
    "plt.xlabel('No of Clusters',fontdict=font2)\n",
    "plt.ylabel('Distortion',fontdict=font2)\n",
    "plt.title('The Elbow Method',fontdict=font1)\n",
    "plt.show()"
   ]
  },
  {
   "cell_type": "code",
   "execution_count": 16,
   "id": "0682f68d",
   "metadata": {},
   "outputs": [
    {
     "name": "stdout",
     "output_type": "stream",
     "text": [
      "Results after Applying KMeans clustering anlysis \n",
      "\n",
      "Crops in First Cluster ['maize' 'chickpea' 'kidneybeans' 'pigeonpeas' 'mothbeans' 'mungbean'\n",
      " 'blackgram' 'lentil' 'pomegranate' 'mango' 'orange' 'papaya' 'coconut']\n",
      "------------------------------------------------------------\n",
      "Crops in Second Cluster ['maize' 'banana' 'watermelon' 'muskmelon' 'papaya' 'cotton' 'coffee']\n",
      "------------------------------------------------------------\n",
      "Crops in Third Cluster ['rice' 'pigeonpeas' 'papaya' 'coconut' 'jute' 'coffee']\n",
      "------------------------------------------------------------\n",
      "Crops in Forth Cluster ['grapes' 'apple']\n",
      "------------------------------------------------------------\n"
     ]
    }
   ],
   "source": [
    "#lets implement the KMeans algorithms to perform clustering anlysis\n",
    "\n",
    "km = KMeans(n_clusters=4)\n",
    "y_means = km.fit_predict(x)\n",
    "\n",
    "# lets find out the results\n",
    "\n",
    "a = data['label']\n",
    "y_means = pd.DataFrame(y_means)\n",
    "z = pd.concat([y_means,a],axis = 1)\n",
    "z = z.rename(columns={0:'clusters'})\n",
    "\n",
    "# lets check cluster of each crops\n",
    "print('Results after Applying KMeans clustering anlysis \\n')\n",
    "print('Crops in First Cluster',z[z['clusters']==0]['label'].unique())\n",
    "print(\"------------------------------------------------------------\")\n",
    "print('Crops in Second Cluster',z[z['clusters']==1]['label'].unique())\n",
    "print(\"------------------------------------------------------------\")\n",
    "print('Crops in Third Cluster',z[z['clusters']==2]['label'].unique())\n",
    "print(\"------------------------------------------------------------\")\n",
    "print('Crops in Forth Cluster',z[z['clusters']==3]['label'].unique())\n",
    "print(\"------------------------------------------------------------\")\n",
    "\n",
    "\n",
    "\n"
   ]
  },
  {
   "cell_type": "code",
   "execution_count": 17,
   "id": "f1c66566",
   "metadata": {},
   "outputs": [
    {
     "name": "stdout",
     "output_type": "stream",
     "text": [
      "Shape of x : (2200, 7)\n",
      "Shape of y : (2200,)\n"
     ]
    }
   ],
   "source": [
    "# lets split the dataset for predictive modeling\n",
    "\n",
    "y = data['label']\n",
    "x = data.drop(['label'],axis = 1)\n",
    "\n",
    "print('Shape of x :',x.shape)\n",
    "print('Shape of y :',y.shape)"
   ]
  },
  {
   "cell_type": "code",
   "execution_count": 18,
   "id": "3692cff9",
   "metadata": {},
   "outputs": [
    {
     "name": "stdout",
     "output_type": "stream",
     "text": [
      "Shape of X_train : (1760, 7)\n",
      "Shape of X_test : (440, 7)\n",
      "Shape of Y_train : (1760,)\n",
      "Shape of Y_test : (440,)\n"
     ]
    }
   ],
   "source": [
    "# lets create training and testing sets for validation of results\n",
    "\n",
    "from sklearn.model_selection import train_test_split\n",
    "x_train, x_test, y_train, y_test = train_test_split(x,y,test_size=0.2,random_state = 0)\n",
    "\n",
    "print('Shape of X_train :',x_train.shape)\n",
    "print('Shape of X_test :',x_test.shape)\n",
    "print('Shape of Y_train :',y_train.shape)\n",
    "print('Shape of Y_test :',y_test.shape)"
   ]
  },
  {
   "cell_type": "code",
   "execution_count": 19,
   "id": "a3e47f5b",
   "metadata": {},
   "outputs": [
    {
     "data": {
      "text/html": [
       "<div>\n",
       "<style scoped>\n",
       "    .dataframe tbody tr th:only-of-type {\n",
       "        vertical-align: middle;\n",
       "    }\n",
       "\n",
       "    .dataframe tbody tr th {\n",
       "        vertical-align: top;\n",
       "    }\n",
       "\n",
       "    .dataframe thead th {\n",
       "        text-align: right;\n",
       "    }\n",
       "</style>\n",
       "<table border=\"1\" class=\"dataframe\">\n",
       "  <thead>\n",
       "    <tr style=\"text-align: right;\">\n",
       "      <th></th>\n",
       "      <th>N</th>\n",
       "      <th>P</th>\n",
       "      <th>K</th>\n",
       "      <th>temperature</th>\n",
       "      <th>humidity</th>\n",
       "      <th>ph</th>\n",
       "      <th>rainfall</th>\n",
       "    </tr>\n",
       "  </thead>\n",
       "  <tbody>\n",
       "    <tr>\n",
       "      <th>1567</th>\n",
       "      <td>27</td>\n",
       "      <td>120</td>\n",
       "      <td>200</td>\n",
       "      <td>21.452787</td>\n",
       "      <td>90.745319</td>\n",
       "      <td>6.110219</td>\n",
       "      <td>116.703658</td>\n",
       "    </tr>\n",
       "    <tr>\n",
       "      <th>2031</th>\n",
       "      <td>81</td>\n",
       "      <td>36</td>\n",
       "      <td>38</td>\n",
       "      <td>23.765547</td>\n",
       "      <td>87.983299</td>\n",
       "      <td>6.334838</td>\n",
       "      <td>150.316615</td>\n",
       "    </tr>\n",
       "    <tr>\n",
       "      <th>2073</th>\n",
       "      <td>90</td>\n",
       "      <td>59</td>\n",
       "      <td>35</td>\n",
       "      <td>24.251335</td>\n",
       "      <td>89.864541</td>\n",
       "      <td>7.098228</td>\n",
       "      <td>175.174211</td>\n",
       "    </tr>\n",
       "    <tr>\n",
       "      <th>1374</th>\n",
       "      <td>81</td>\n",
       "      <td>16</td>\n",
       "      <td>45</td>\n",
       "      <td>26.904357</td>\n",
       "      <td>86.254262</td>\n",
       "      <td>6.727468</td>\n",
       "      <td>59.759800</td>\n",
       "    </tr>\n",
       "    <tr>\n",
       "      <th>279</th>\n",
       "      <td>47</td>\n",
       "      <td>80</td>\n",
       "      <td>77</td>\n",
       "      <td>17.182484</td>\n",
       "      <td>16.428918</td>\n",
       "      <td>7.561108</td>\n",
       "      <td>72.850173</td>\n",
       "    </tr>\n",
       "    <tr>\n",
       "      <th>...</th>\n",
       "      <td>...</td>\n",
       "      <td>...</td>\n",
       "      <td>...</td>\n",
       "      <td>...</td>\n",
       "      <td>...</td>\n",
       "      <td>...</td>\n",
       "      <td>...</td>\n",
       "    </tr>\n",
       "    <tr>\n",
       "      <th>1033</th>\n",
       "      <td>102</td>\n",
       "      <td>71</td>\n",
       "      <td>48</td>\n",
       "      <td>28.654563</td>\n",
       "      <td>79.286937</td>\n",
       "      <td>5.695268</td>\n",
       "      <td>102.463378</td>\n",
       "    </tr>\n",
       "    <tr>\n",
       "      <th>1731</th>\n",
       "      <td>34</td>\n",
       "      <td>68</td>\n",
       "      <td>51</td>\n",
       "      <td>27.347349</td>\n",
       "      <td>94.177567</td>\n",
       "      <td>6.687088</td>\n",
       "      <td>40.351531</td>\n",
       "    </tr>\n",
       "    <tr>\n",
       "      <th>763</th>\n",
       "      <td>35</td>\n",
       "      <td>64</td>\n",
       "      <td>15</td>\n",
       "      <td>28.474423</td>\n",
       "      <td>63.536045</td>\n",
       "      <td>6.500145</td>\n",
       "      <td>69.527441</td>\n",
       "    </tr>\n",
       "    <tr>\n",
       "      <th>835</th>\n",
       "      <td>39</td>\n",
       "      <td>65</td>\n",
       "      <td>23</td>\n",
       "      <td>25.434598</td>\n",
       "      <td>69.126134</td>\n",
       "      <td>7.685959</td>\n",
       "      <td>41.026829</td>\n",
       "    </tr>\n",
       "    <tr>\n",
       "      <th>1653</th>\n",
       "      <td>14</td>\n",
       "      <td>22</td>\n",
       "      <td>9</td>\n",
       "      <td>17.249446</td>\n",
       "      <td>91.137728</td>\n",
       "      <td>6.543192</td>\n",
       "      <td>112.509052</td>\n",
       "    </tr>\n",
       "  </tbody>\n",
       "</table>\n",
       "<p>1760 rows × 7 columns</p>\n",
       "</div>"
      ],
      "text/plain": [
       "        N    P    K  temperature   humidity        ph    rainfall\n",
       "1567   27  120  200    21.452787  90.745319  6.110219  116.703658\n",
       "2031   81   36   38    23.765547  87.983299  6.334838  150.316615\n",
       "2073   90   59   35    24.251335  89.864541  7.098228  175.174211\n",
       "1374   81   16   45    26.904357  86.254262  6.727468   59.759800\n",
       "279    47   80   77    17.182484  16.428918  7.561108   72.850173\n",
       "...   ...  ...  ...          ...        ...       ...         ...\n",
       "1033  102   71   48    28.654563  79.286937  5.695268  102.463378\n",
       "1731   34   68   51    27.347349  94.177567  6.687088   40.351531\n",
       "763    35   64   15    28.474423  63.536045  6.500145   69.527441\n",
       "835    39   65   23    25.434598  69.126134  7.685959   41.026829\n",
       "1653   14   22    9    17.249446  91.137728  6.543192  112.509052\n",
       "\n",
       "[1760 rows x 7 columns]"
      ]
     },
     "execution_count": 19,
     "metadata": {},
     "output_type": "execute_result"
    }
   ],
   "source": [
    "x_train"
   ]
  },
  {
   "cell_type": "code",
   "execution_count": 20,
   "id": "fcb0a1c1",
   "metadata": {},
   "outputs": [],
   "source": [
    "# lets create a predictive model\n",
    "\n",
    "from sklearn.linear_model import LogisticRegression\n",
    "model = LogisticRegression()\n",
    "model.fit(x_train, y_train)\n",
    "y_pred = model.predict(x_test)"
   ]
  },
  {
   "cell_type": "code",
   "execution_count": 21,
   "id": "16f8fa96",
   "metadata": {},
   "outputs": [
    {
     "data": {
      "image/png": "[encoded data removed]",
      "text/plain": [
       "<Figure size 720x720 with 2 Axes>"
      ]
     },
     "metadata": {},
     "output_type": "display_data"
    }
   ],
   "source": [
    "# lets evaluate the model perfomance\n",
    "\n",
    "from sklearn.metrics import confusion_matrix\n",
    "\n",
    "#lets print the confusion matrix first\n",
    "\n",
    "plt.rcParams['figure.figsize'] =(10,10)\n",
    "cm = confusion_matrix(y_test,y_pred)\n",
    "sns.heatmap(cm , annot = True , cmap='Wistia')\n",
    "font1 = {'family':'serif','color':'red','size':20}\n",
    "plt.title('Confusion Matrix for Logistic Regression' , fontdict = font1)\n",
    "plt.show()"
   ]
  },
  {
   "cell_type": "code",
   "execution_count": 22,
   "id": "eda6cc0c",
   "metadata": {},
   "outputs": [
    {
     "name": "stdout",
     "output_type": "stream",
     "text": [
      "              precision    recall  f1-score   support\n",
      "\n",
      "       apple       1.00      1.00      1.00        18\n",
      "      banana       1.00      1.00      1.00        18\n",
      "   blackgram       0.86      0.82      0.84        22\n",
      "    chickpea       1.00      1.00      1.00        23\n",
      "     coconut       1.00      1.00      1.00        15\n",
      "      coffee       1.00      1.00      1.00        17\n",
      "      cotton       0.89      1.00      0.94        16\n",
      "      grapes       1.00      1.00      1.00        18\n",
      "        jute       0.84      1.00      0.91        21\n",
      " kidneybeans       1.00      1.00      1.00        20\n",
      "      lentil       0.94      0.94      0.94        17\n",
      "       maize       0.94      0.89      0.91        18\n",
      "       mango       1.00      1.00      1.00        21\n",
      "   mothbeans       0.88      0.92      0.90        25\n",
      "    mungbean       1.00      1.00      1.00        17\n",
      "   muskmelon       1.00      1.00      1.00        23\n",
      "      orange       1.00      1.00      1.00        23\n",
      "      papaya       1.00      0.95      0.98        21\n",
      "  pigeonpeas       1.00      1.00      1.00        22\n",
      " pomegranate       1.00      1.00      1.00        23\n",
      "        rice       1.00      0.84      0.91        25\n",
      "  watermelon       1.00      1.00      1.00        17\n",
      "\n",
      "    accuracy                           0.97       440\n",
      "   macro avg       0.97      0.97      0.97       440\n",
      "weighted avg       0.97      0.97      0.97       440\n",
      "\n"
     ]
    }
   ],
   "source": [
    "# lets print out the classification report also\n",
    "\n",
    "from sklearn.metrics import classification_report\n",
    "cr = classification_report(y_test,y_pred)\n",
    "print(cr)"
   ]
  },
  {
   "cell_type": "code",
   "execution_count": 23,
   "id": "6a3af557",
   "metadata": {},
   "outputs": [
    {
     "name": "stdout",
     "output_type": "stream",
     "text": [
      "The Suggested Crop for given Climate Condition : ['coffee']\n"
     ]
    }
   ],
   "source": [
    "prediction = model.predict(np.array([[90,40,40,30,60,7,200]]))\n",
    "print('The Suggested Crop for given Climate Condition :',prediction)"
   ]
  },
  {
   "cell_type": "code",
   "execution_count": 24,
   "id": "ea7e7d00",
   "metadata": {},
   "outputs": [],
   "source": [
    "def predict():\n",
    "    list1 = []\n",
    "    Nitrogen = input('Ratio of Nitrogen in the Soil : ')\n",
    "    list1.append(Nitrogen)\n",
    "    Phosphorous = input('Ratio of Phosphorous in the Soil : ')\n",
    "    list1.append(Phosphorous)\n",
    "    Potassiam = input('Ratio of Potassiam in the Soil :')\n",
    "    list1.append(Potassiam)\n",
    "    Temperature = input('Temperature in Celcius : ')\n",
    "    list1.append(Temperature)\n",
    "    Humidity = input('Relative Humidity in the Soil % : ')\n",
    "    list1.append(Humidity)\n",
    "    ph = input('ph value for the Soil : ')\n",
    "    list1.append(ph)\n",
    "    RainFall = input('RainFall in 1mm : ')\n",
    "    list1.append(RainFall)\n",
    "    prediction = model.predict(np.array([list1]))\n",
    "    print('The Suggested Crop for given Climate Condition :',prediction)\n",
    "     "
   ]
  },
  {
   "cell_type": "code",
   "execution_count": null,
   "id": "48228116",
   "metadata": {},
   "outputs": [],
   "source": [
    "flag = True\n",
    "while flag:\n",
    "    predict()\n",
    "    choice = input('If you want to continue Enter Yes if Not Enter any Key : ')\n",
    "    if choice == 'Yes':\n",
    "        #Potassiam = input('Ratio of Potassiam in the Soil :')\n",
    "        flag = True\n",
    "    else:\n",
    "        flag = False\n",
    "        \n",
    "        \n",
    "        print('Good luck! We Hope ', prediction ,'make much Growth in Climate Condition you enter '   )\n",
    "    "
   ]
  },
  {
   "cell_type": "code",
   "execution_count": null,
   "id": "3ac2ae6f",
   "metadata": {},
   "outputs": [],
   "source": []
  },
  {
   "cell_type": "code",
   "execution_count": null,
   "id": "a53742cb",
   "metadata": {},
   "outputs": [],
   "source": []
  }
 ],
 "metadata": {
  "kernelspec": {
   "display_name": "Python 3",
   "language": "python",
   "name": "python3"
  },
  "language_info": {
   "codemirror_mode": {
    "name": "ipython",
    "version": 3
   },
   "file_extension": ".py",
   "mimetype": "text/x-python",
   "name": "python",
   "nbconvert_exporter": "python",
   "pygments_lexer": "ipython3",
   "version": "3.8.8"
  }
 },
 "nbformat": 4,
 "nbformat_minor": 5
}
